{
 "cells": [
  {
   "cell_type": "code",
   "execution_count": 1,
   "metadata": {},
   "outputs": [
    {
     "name": "stderr",
     "output_type": "stream",
     "text": [
      "Matplotlib is building the font cache; this may take a moment.\n"
     ]
    }
   ],
   "source": [
    "import dateutil\n",
    "import datetime\n",
    "import numpy as np\n",
    "import pandas as pd\n",
    "from pandas_datareader import data as wb\n",
    "import yfinance as yf\n",
    "import matplotlib.pyplot as plt"
   ]
  },
  {
   "cell_type": "code",
   "execution_count": 3,
   "metadata": {},
   "outputs": [
    {
     "name": "stdin",
     "output_type": "stream",
     "text": [
      "Enter the number of stocks : 3\n",
      "Enter the stock name listed in NSE :  Reliance\n",
      "Enter the stock name listed in NSE :  Infy\n",
      "Enter the stock name listed in NSE :  SBIN\n"
     ]
    },
    {
     "name": "stdout",
     "output_type": "stream",
     "text": [
      "['Reliance.NS', 'Infy.NS', 'SBIN.NS']\n",
      "[*********************100%***********************]  1 of 1 completed\n",
      "[*********************100%***********************]  1 of 1 completed\n",
      "[*********************100%***********************]  1 of 1 completed\n"
     ]
    }
   ],
   "source": [
    "n=int(input(\"Enter the number of stocks :\"))\n",
    "\n",
    "lst=[]\n",
    "for i in range(n):\n",
    "    tick=input(\"Enter the stock name listed in NSE : \")\n",
    "    t=tick+'.NS'\n",
    "    lst.append(t)\n",
    "    \n",
    "print(lst)\n",
    "\n",
    "# Set the start and end date\n",
    "start_date = '1990-01-01'\n",
    "end_date = '2000-08-03'\n",
    "df=[]\n",
    "for i in range(len(lst)):\n",
    "    ticker=lst[i]\n",
    "    data=yf.download(ticker, start_date, end_date)\n",
    "    df.append(data)\n",
    "    \n",
    "#print(df)"
   ]
  },
  {
   "cell_type": "code",
   "execution_count": 4,
   "metadata": {
    "scrolled": true
   },
   "outputs": [
    {
     "data": {
      "text/html": [
       "<div>\n",
       "<style scoped>\n",
       "    .dataframe tbody tr th:only-of-type {\n",
       "        vertical-align: middle;\n",
       "    }\n",
       "\n",
       "    .dataframe tbody tr th {\n",
       "        vertical-align: top;\n",
       "    }\n",
       "\n",
       "    .dataframe thead th {\n",
       "        text-align: right;\n",
       "    }\n",
       "</style>\n",
       "<table border=\"1\" class=\"dataframe\">\n",
       "  <thead>\n",
       "    <tr style=\"text-align: right;\">\n",
       "      <th></th>\n",
       "      <th>Open</th>\n",
       "      <th>High</th>\n",
       "      <th>Low</th>\n",
       "      <th>Close</th>\n",
       "      <th>Adj Close</th>\n",
       "      <th>Volume</th>\n",
       "      <th>Open</th>\n",
       "      <th>High</th>\n",
       "      <th>Low</th>\n",
       "      <th>Close</th>\n",
       "      <th>Adj Close</th>\n",
       "      <th>Volume</th>\n",
       "      <th>Open</th>\n",
       "      <th>High</th>\n",
       "      <th>Low</th>\n",
       "      <th>Close</th>\n",
       "      <th>Adj Close</th>\n",
       "      <th>Volume</th>\n",
       "    </tr>\n",
       "    <tr>\n",
       "      <th>Date</th>\n",
       "      <th></th>\n",
       "      <th></th>\n",
       "      <th></th>\n",
       "      <th></th>\n",
       "      <th></th>\n",
       "      <th></th>\n",
       "      <th></th>\n",
       "      <th></th>\n",
       "      <th></th>\n",
       "      <th></th>\n",
       "      <th></th>\n",
       "      <th></th>\n",
       "      <th></th>\n",
       "      <th></th>\n",
       "      <th></th>\n",
       "      <th></th>\n",
       "      <th></th>\n",
       "      <th></th>\n",
       "    </tr>\n",
       "  </thead>\n",
       "  <tbody>\n",
       "    <tr>\n",
       "      <th>1996-01-01</th>\n",
       "      <td>15.859429</td>\n",
       "      <td>15.944529</td>\n",
       "      <td>15.754989</td>\n",
       "      <td>15.917452</td>\n",
       "      <td>10.509540</td>\n",
       "      <td>48051995</td>\n",
       "      <td>0.794921</td>\n",
       "      <td>0.796679</td>\n",
       "      <td>0.791015</td>\n",
       "      <td>0.796679</td>\n",
       "      <td>0.544656</td>\n",
       "      <td>204800.0</td>\n",
       "      <td>18.691147</td>\n",
       "      <td>18.978922</td>\n",
       "      <td>18.540184</td>\n",
       "      <td>18.823240</td>\n",
       "      <td>12.848525</td>\n",
       "      <td>43733533</td>\n",
       "    </tr>\n",
       "    <tr>\n",
       "      <th>1996-01-02</th>\n",
       "      <td>15.878770</td>\n",
       "      <td>15.956133</td>\n",
       "      <td>15.677626</td>\n",
       "      <td>15.793671</td>\n",
       "      <td>10.427811</td>\n",
       "      <td>77875009</td>\n",
       "      <td>0.794921</td>\n",
       "      <td>0.798828</td>\n",
       "      <td>0.793457</td>\n",
       "      <td>0.793457</td>\n",
       "      <td>0.542453</td>\n",
       "      <td>204800.0</td>\n",
       "      <td>18.894005</td>\n",
       "      <td>18.964767</td>\n",
       "      <td>17.738192</td>\n",
       "      <td>18.224106</td>\n",
       "      <td>12.439560</td>\n",
       "      <td>56167280</td>\n",
       "    </tr>\n",
       "    <tr>\n",
       "      <th>1996-01-03</th>\n",
       "      <td>16.052837</td>\n",
       "      <td>16.783918</td>\n",
       "      <td>15.878770</td>\n",
       "      <td>15.913584</td>\n",
       "      <td>10.506985</td>\n",
       "      <td>96602936</td>\n",
       "      <td>0.798828</td>\n",
       "      <td>0.798828</td>\n",
       "      <td>0.798828</td>\n",
       "      <td>0.798828</td>\n",
       "      <td>0.546125</td>\n",
       "      <td>102400.0</td>\n",
       "      <td>18.327892</td>\n",
       "      <td>18.568489</td>\n",
       "      <td>17.643839</td>\n",
       "      <td>17.738192</td>\n",
       "      <td>12.107882</td>\n",
       "      <td>68296318</td>\n",
       "    </tr>\n",
       "    <tr>\n",
       "      <th>1996-01-04</th>\n",
       "      <td>15.762726</td>\n",
       "      <td>15.813012</td>\n",
       "      <td>15.553845</td>\n",
       "      <td>15.766594</td>\n",
       "      <td>10.409932</td>\n",
       "      <td>100099436</td>\n",
       "      <td>0.791015</td>\n",
       "      <td>0.794921</td>\n",
       "      <td>0.791015</td>\n",
       "      <td>0.793554</td>\n",
       "      <td>0.542519</td>\n",
       "      <td>307200.0</td>\n",
       "      <td>17.502312</td>\n",
       "      <td>17.832542</td>\n",
       "      <td>17.223972</td>\n",
       "      <td>17.676863</td>\n",
       "      <td>12.066019</td>\n",
       "      <td>86073880</td>\n",
       "    </tr>\n",
       "    <tr>\n",
       "      <th>1996-01-05</th>\n",
       "      <td>15.704703</td>\n",
       "      <td>15.704703</td>\n",
       "      <td>15.522900</td>\n",
       "      <td>15.658285</td>\n",
       "      <td>10.338421</td>\n",
       "      <td>76935930</td>\n",
       "      <td>0.784179</td>\n",
       "      <td>0.784179</td>\n",
       "      <td>0.784179</td>\n",
       "      <td>0.784179</td>\n",
       "      <td>0.536110</td>\n",
       "      <td>51200.0</td>\n",
       "      <td>17.738192</td>\n",
       "      <td>17.785366</td>\n",
       "      <td>17.459852</td>\n",
       "      <td>17.577793</td>\n",
       "      <td>11.998397</td>\n",
       "      <td>76613039</td>\n",
       "    </tr>\n",
       "  </tbody>\n",
       "</table>\n",
       "</div>"
      ],
      "text/plain": [
       "                 Open       High        Low      Close  Adj Close     Volume  \\\n",
       "Date                                                                           \n",
       "1996-01-01  15.859429  15.944529  15.754989  15.917452  10.509540   48051995   \n",
       "1996-01-02  15.878770  15.956133  15.677626  15.793671  10.427811   77875009   \n",
       "1996-01-03  16.052837  16.783918  15.878770  15.913584  10.506985   96602936   \n",
       "1996-01-04  15.762726  15.813012  15.553845  15.766594  10.409932  100099436   \n",
       "1996-01-05  15.704703  15.704703  15.522900  15.658285  10.338421   76935930   \n",
       "\n",
       "                Open      High       Low     Close  Adj Close    Volume  \\\n",
       "Date                                                                      \n",
       "1996-01-01  0.794921  0.796679  0.791015  0.796679   0.544656  204800.0   \n",
       "1996-01-02  0.794921  0.798828  0.793457  0.793457   0.542453  204800.0   \n",
       "1996-01-03  0.798828  0.798828  0.798828  0.798828   0.546125  102400.0   \n",
       "1996-01-04  0.791015  0.794921  0.791015  0.793554   0.542519  307200.0   \n",
       "1996-01-05  0.784179  0.784179  0.784179  0.784179   0.536110   51200.0   \n",
       "\n",
       "                 Open       High        Low      Close  Adj Close    Volume  \n",
       "Date                                                                         \n",
       "1996-01-01  18.691147  18.978922  18.540184  18.823240  12.848525  43733533  \n",
       "1996-01-02  18.894005  18.964767  17.738192  18.224106  12.439560  56167280  \n",
       "1996-01-03  18.327892  18.568489  17.643839  17.738192  12.107882  68296318  \n",
       "1996-01-04  17.502312  17.832542  17.223972  17.676863  12.066019  86073880  \n",
       "1996-01-05  17.738192  17.785366  17.459852  17.577793  11.998397  76613039  "
      ]
     },
     "execution_count": 4,
     "metadata": {},
     "output_type": "execute_result"
    }
   ],
   "source": [
    "stock_data = pd.concat(df, axis=1, ignore_index=False)\n",
    "stock_data.head()"
   ]
  },
  {
   "cell_type": "code",
   "execution_count": 6,
   "metadata": {},
   "outputs": [
    {
     "data": {
      "text/html": [
       "<div>\n",
       "<style scoped>\n",
       "    .dataframe tbody tr th:only-of-type {\n",
       "        vertical-align: middle;\n",
       "    }\n",
       "\n",
       "    .dataframe tbody tr th {\n",
       "        vertical-align: top;\n",
       "    }\n",
       "\n",
       "    .dataframe thead th {\n",
       "        text-align: right;\n",
       "    }\n",
       "</style>\n",
       "<table border=\"1\" class=\"dataframe\">\n",
       "  <thead>\n",
       "    <tr style=\"text-align: right;\">\n",
       "      <th></th>\n",
       "      <th>Reliance.NS</th>\n",
       "      <th>Infy.NS</th>\n",
       "      <th>SBIN.NS</th>\n",
       "    </tr>\n",
       "    <tr>\n",
       "      <th>Date</th>\n",
       "      <th></th>\n",
       "      <th></th>\n",
       "      <th></th>\n",
       "    </tr>\n",
       "  </thead>\n",
       "  <tbody>\n",
       "    <tr>\n",
       "      <th>2000-07-27</th>\n",
       "      <td>41.578354</td>\n",
       "      <td>73.777992</td>\n",
       "      <td>13.850236</td>\n",
       "    </tr>\n",
       "    <tr>\n",
       "      <th>2000-07-28</th>\n",
       "      <td>41.143299</td>\n",
       "      <td>74.409546</td>\n",
       "      <td>14.424853</td>\n",
       "    </tr>\n",
       "    <tr>\n",
       "      <th>2000-07-31</th>\n",
       "      <td>40.702209</td>\n",
       "      <td>73.495918</td>\n",
       "      <td>14.060462</td>\n",
       "    </tr>\n",
       "    <tr>\n",
       "      <th>2000-08-01</th>\n",
       "      <td>40.907646</td>\n",
       "      <td>73.353516</td>\n",
       "      <td>14.011415</td>\n",
       "    </tr>\n",
       "    <tr>\n",
       "      <th>2000-08-02</th>\n",
       "      <td>40.968075</td>\n",
       "      <td>72.037689</td>\n",
       "      <td>14.228641</td>\n",
       "    </tr>\n",
       "  </tbody>\n",
       "</table>\n",
       "</div>"
      ],
      "text/plain": [
       "            Reliance.NS    Infy.NS    SBIN.NS\n",
       "Date                                         \n",
       "2000-07-27    41.578354  73.777992  13.850236\n",
       "2000-07-28    41.143299  74.409546  14.424853\n",
       "2000-07-31    40.702209  73.495918  14.060462\n",
       "2000-08-01    40.907646  73.353516  14.011415\n",
       "2000-08-02    40.968075  72.037689  14.228641"
      ]
     },
     "execution_count": 6,
     "metadata": {},
     "output_type": "execute_result"
    }
   ],
   "source": [
    "\n",
    "stock_data1=stock_data['Adj Close']\n",
    "stock_data1.head()\n",
    "\n",
    "stock_data1.columns=lst\n",
    "stock_data1.tail()"
   ]
  },
  {
   "cell_type": "code",
   "execution_count": 7,
   "metadata": {},
   "outputs": [
    {
     "data": {
      "text/plain": [
       "Reliance.NS    10.509540\n",
       "Infy.NS         0.544656\n",
       "SBIN.NS        12.848525\n",
       "Name: 1996-01-01 00:00:00, dtype: float64"
      ]
     },
     "execution_count": 7,
     "metadata": {},
     "output_type": "execute_result"
    }
   ],
   "source": [
    "stock_data1.iloc[0]\n"
   ]
  },
  {
   "cell_type": "code",
   "execution_count": 8,
   "metadata": {},
   "outputs": [
    {
     "data": {
      "text/html": [
       "<div>\n",
       "<style scoped>\n",
       "    .dataframe tbody tr th:only-of-type {\n",
       "        vertical-align: middle;\n",
       "    }\n",
       "\n",
       "    .dataframe tbody tr th {\n",
       "        vertical-align: top;\n",
       "    }\n",
       "\n",
       "    .dataframe thead th {\n",
       "        text-align: right;\n",
       "    }\n",
       "</style>\n",
       "<table border=\"1\" class=\"dataframe\">\n",
       "  <thead>\n",
       "    <tr style=\"text-align: right;\">\n",
       "      <th></th>\n",
       "      <th>Reliance.NS</th>\n",
       "      <th>Infy.NS</th>\n",
       "      <th>SBIN.NS</th>\n",
       "    </tr>\n",
       "    <tr>\n",
       "      <th>Date</th>\n",
       "      <th></th>\n",
       "      <th></th>\n",
       "      <th></th>\n",
       "    </tr>\n",
       "  </thead>\n",
       "  <tbody>\n",
       "    <tr>\n",
       "      <th>1996-01-01</th>\n",
       "      <td>NaN</td>\n",
       "      <td>NaN</td>\n",
       "      <td>NaN</td>\n",
       "    </tr>\n",
       "    <tr>\n",
       "      <th>1996-01-02</th>\n",
       "      <td>-0.007807</td>\n",
       "      <td>-0.004053</td>\n",
       "      <td>-0.032347</td>\n",
       "    </tr>\n",
       "    <tr>\n",
       "      <th>1996-01-03</th>\n",
       "      <td>0.007564</td>\n",
       "      <td>0.006746</td>\n",
       "      <td>-0.027025</td>\n",
       "    </tr>\n",
       "    <tr>\n",
       "      <th>1996-01-04</th>\n",
       "      <td>-0.009280</td>\n",
       "      <td>-0.006624</td>\n",
       "      <td>-0.003464</td>\n",
       "    </tr>\n",
       "    <tr>\n",
       "      <th>1996-01-05</th>\n",
       "      <td>-0.006893</td>\n",
       "      <td>-0.011884</td>\n",
       "      <td>-0.005620</td>\n",
       "    </tr>\n",
       "  </tbody>\n",
       "</table>\n",
       "</div>"
      ],
      "text/plain": [
       "            Reliance.NS   Infy.NS   SBIN.NS\n",
       "Date                                       \n",
       "1996-01-01          NaN       NaN       NaN\n",
       "1996-01-02    -0.007807 -0.004053 -0.032347\n",
       "1996-01-03     0.007564  0.006746 -0.027025\n",
       "1996-01-04    -0.009280 -0.006624 -0.003464\n",
       "1996-01-05    -0.006893 -0.011884 -0.005620"
      ]
     },
     "execution_count": 8,
     "metadata": {},
     "output_type": "execute_result"
    }
   ],
   "source": [
    "sec_returns = np.log(stock_data1 / stock_data1.shift(1))\n",
    "sec_returns.head()\n"
   ]
  },
  {
   "cell_type": "code",
   "execution_count": 11,
   "metadata": {},
   "outputs": [
    {
     "name": "stdout",
     "output_type": "stream",
     "text": [
      "Returns for Reliance.NS on average in a year is around 28.58213700652682 %\n",
      "Returns for Infy.NS on average in a year is around 102.86029374231687 %\n",
      "Returns for SBIN.NS on average in a year is around 2.1434422575273304 %\n"
     ]
    }
   ],
   "source": [
    "#For getting security returns\n",
    "# sec_returns['Reliance.NS'].mean() * 250\n",
    "# sec_returns['Infy.NS'].mean() * 250\n",
    "\n",
    "for i in lst:\n",
    "    a=sec_returns[i].mean() * 250\n",
    "    print (\"Returns for {} on average in a year is around {} %\".format(i,a*100))"
   ]
  },
  {
   "cell_type": "code",
   "execution_count": 13,
   "metadata": {},
   "outputs": [
    {
     "data": {
      "text/plain": [
       "Reliance.NS    0.631042\n",
       "Infy.NS        0.514011\n",
       "SBIN.NS        0.448240\n",
       "dtype: float64"
      ]
     },
     "execution_count": 13,
     "metadata": {},
     "output_type": "execute_result"
    }
   ],
   "source": [
    "\n",
    "sec_returns[['Reliance.NS', 'Infy.NS','SBIN.NS']].std() * 250 ** 0.5"
   ]
  },
  {
   "cell_type": "code",
   "execution_count": 14,
   "metadata": {},
   "outputs": [
    {
     "name": "stdout",
     "output_type": "stream",
     "text": [
      "Volatility of Reliance.NS in a year is around 63.10415317556565 %\n",
      "Volatility of Infy.NS in a year is around 51.401100636762195 %\n",
      "Volatility of SBIN.NS in a year is around 44.824036632167825 %\n"
     ]
    }
   ],
   "source": [
    "# Standard Deviation indicates the risk or volatility of the stock .\n",
    "# A stock whose return shows a large deviation from its mean is said to be more volatile.\n",
    "\n",
    "for i in lst:\n",
    "    a=sec_returns[i].std() * 250 ** 0.5\n",
    "    print (\"Volatility of {} in a year is around {} %\".format(i,a*100))"
   ]
  },
  {
   "cell_type": "code",
   "execution_count": 15,
   "metadata": {},
   "outputs": [
    {
     "data": {
      "text/html": [
       "<div>\n",
       "<style scoped>\n",
       "    .dataframe tbody tr th:only-of-type {\n",
       "        vertical-align: middle;\n",
       "    }\n",
       "\n",
       "    .dataframe tbody tr th {\n",
       "        vertical-align: top;\n",
       "    }\n",
       "\n",
       "    .dataframe thead th {\n",
       "        text-align: right;\n",
       "    }\n",
       "</style>\n",
       "<table border=\"1\" class=\"dataframe\">\n",
       "  <thead>\n",
       "    <tr style=\"text-align: right;\">\n",
       "      <th></th>\n",
       "      <th>Reliance.NS</th>\n",
       "      <th>Infy.NS</th>\n",
       "      <th>SBIN.NS</th>\n",
       "    </tr>\n",
       "  </thead>\n",
       "  <tbody>\n",
       "    <tr>\n",
       "      <th>Reliance.NS</th>\n",
       "      <td>0.398213</td>\n",
       "      <td>0.074316</td>\n",
       "      <td>0.136723</td>\n",
       "    </tr>\n",
       "    <tr>\n",
       "      <th>Infy.NS</th>\n",
       "      <td>0.074316</td>\n",
       "      <td>0.264207</td>\n",
       "      <td>0.085283</td>\n",
       "    </tr>\n",
       "    <tr>\n",
       "      <th>SBIN.NS</th>\n",
       "      <td>0.136723</td>\n",
       "      <td>0.085283</td>\n",
       "      <td>0.200919</td>\n",
       "    </tr>\n",
       "  </tbody>\n",
       "</table>\n",
       "</div>"
      ],
      "text/plain": [
       "             Reliance.NS   Infy.NS   SBIN.NS\n",
       "Reliance.NS     0.398213  0.074316  0.136723\n",
       "Infy.NS         0.074316  0.264207  0.085283\n",
       "SBIN.NS         0.136723  0.085283  0.200919"
      ]
     },
     "execution_count": 15,
     "metadata": {},
     "output_type": "execute_result"
    }
   ],
   "source": [
    "#Calculating Covariance and Correlation\n",
    "\n",
    "cov_matrix=sec_returns.cov()*250\n",
    "cov_matrix"
   ]
  },
  {
   "cell_type": "code",
   "execution_count": 16,
   "metadata": {},
   "outputs": [
    {
     "data": {
      "text/html": [
       "<div>\n",
       "<style scoped>\n",
       "    .dataframe tbody tr th:only-of-type {\n",
       "        vertical-align: middle;\n",
       "    }\n",
       "\n",
       "    .dataframe tbody tr th {\n",
       "        vertical-align: top;\n",
       "    }\n",
       "\n",
       "    .dataframe thead th {\n",
       "        text-align: right;\n",
       "    }\n",
       "</style>\n",
       "<table border=\"1\" class=\"dataframe\">\n",
       "  <thead>\n",
       "    <tr style=\"text-align: right;\">\n",
       "      <th></th>\n",
       "      <th>Reliance.NS</th>\n",
       "      <th>Infy.NS</th>\n",
       "      <th>SBIN.NS</th>\n",
       "    </tr>\n",
       "  </thead>\n",
       "  <tbody>\n",
       "    <tr>\n",
       "      <th>Reliance.NS</th>\n",
       "      <td>1.000000</td>\n",
       "      <td>0.229201</td>\n",
       "      <td>0.483361</td>\n",
       "    </tr>\n",
       "    <tr>\n",
       "      <th>Infy.NS</th>\n",
       "      <td>0.229201</td>\n",
       "      <td>1.000000</td>\n",
       "      <td>0.370025</td>\n",
       "    </tr>\n",
       "    <tr>\n",
       "      <th>SBIN.NS</th>\n",
       "      <td>0.483361</td>\n",
       "      <td>0.370025</td>\n",
       "      <td>1.000000</td>\n",
       "    </tr>\n",
       "  </tbody>\n",
       "</table>\n",
       "</div>"
      ],
      "text/plain": [
       "             Reliance.NS   Infy.NS   SBIN.NS\n",
       "Reliance.NS     1.000000  0.229201  0.483361\n",
       "Infy.NS         0.229201  1.000000  0.370025\n",
       "SBIN.NS         0.483361  0.370025  1.000000"
      ]
     },
     "execution_count": 16,
     "metadata": {},
     "output_type": "execute_result"
    }
   ],
   "source": [
    "corr_matrix = sec_returns.corr()\n",
    "corr_matrix"
   ]
  },
  {
   "cell_type": "code",
   "execution_count": 18,
   "metadata": {},
   "outputs": [
    {
     "name": "stdin",
     "output_type": "stream",
     "text": [
      "Enter the weightage(in float) you wanna give for Reliance.NS  : 0.5\n",
      "Enter the weightage(in float) you wanna give for Infy.NS  : 0.4\n",
      "Enter the weightage(in float) you wanna give for SBIN.NS  : 0.1\n"
     ]
    },
    {
     "name": "stdout",
     "output_type": "stream",
     "text": [
      "[0.5 0.4 0.1]\n",
      "Portfolio Variance :  0.19405690472075687\n",
      "Portfolio Volatility :  0.44051890393121257\n"
     ]
    }
   ],
   "source": [
    "#Calculating portfolio risk / Volatility\n",
    "\n",
    "#weights = np.array([0.3,0.3,0.3])\n",
    "weights=np.array([])\n",
    "sum=0\n",
    "for i in range(len(lst)):\n",
    "    a=float(input(\"Enter the weightage(in float) you wanna give for {}  :\".format(lst[i])))\n",
    "    weights=np.append(weights,[a])\n",
    "    sum+=a\n",
    "    \n",
    "print (weights)\n",
    "\n",
    "if (sum==1):\n",
    "    \n",
    "   \n",
    "    #Portfolio variance\n",
    "\n",
    "    pfolio_var = np.dot(weights.T, np.dot(sec_returns.cov() * 250, weights))\n",
    "    print(\"Portfolio Variance : \",pfolio_var)\n",
    "\n",
    "    #Portfolio Volatility\n",
    "\n",
    "    pfolio_vol = (np.dot(weights.T, np.dot(sec_returns.cov() * 250, weights))) ** 0.5\n",
    "    print(\"Portfolio Volatility : \",pfolio_vol)\n",
    "    \n",
    "else:\n",
    "    print (\"Please enter the weight with sum equivalent to 1 !!\")"
   ]
  },
  {
   "cell_type": "code",
   "execution_count": 19,
   "metadata": {},
   "outputs": [
    {
     "name": "stdout",
     "output_type": "stream",
     "text": [
      "Portfolio Volatility : 44.052 % \n"
     ]
    }
   ],
   "source": [
    "print (\"Portfolio Volatility : {} \".format(str(round(pfolio_vol, 5) * 100) + ' %'))"
   ]
  },
  {
   "cell_type": "code",
   "execution_count": null,
   "metadata": {},
   "outputs": [],
   "source": []
  }
 ],
 "metadata": {
  "kernelspec": {
   "display_name": "Python 3 (ipykernel)",
   "language": "python",
   "name": "python3"
  },
  "language_info": {
   "codemirror_mode": {
    "name": "ipython",
    "version": 3
   },
   "file_extension": ".py",
   "mimetype": "text/x-python",
   "name": "python",
   "nbconvert_exporter": "python",
   "pygments_lexer": "ipython3",
   "version": "3.7.3"
  }
 },
 "nbformat": 4,
 "nbformat_minor": 4
}
