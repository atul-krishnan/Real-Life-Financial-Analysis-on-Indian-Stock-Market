{
 "cells": [
  {
   "cell_type": "code",
   "execution_count": 1,
   "metadata": {},
   "outputs": [],
   "source": [
    "import dateutil\n",
    "import datetime\n",
    "import numpy as np\n",
    "import pandas as pd\n",
    "from pandas_datareader import data as wb\n",
    "import yfinance as yf\n",
    "import matplotlib.pyplot as plt"
   ]
  },
  {
   "cell_type": "code",
   "execution_count": 2,
   "metadata": {},
   "outputs": [
    {
     "name": "stdin",
     "output_type": "stream",
     "text": [
      "Enter the number of stocks : 3\n",
      "Enter the stock name listed in NSE :  SBIN\n",
      "Enter the stock name listed in NSE :  RELIANCE\n",
      "Enter the stock name listed in NSE :  INFY\n"
     ]
    },
    {
     "name": "stdout",
     "output_type": "stream",
     "text": [
      "['SBIN.NS', 'RELIANCE.NS', 'INFY.NS', '^NSEI']\n",
      "[*********************100%***********************]  1 of 1 completed\n",
      "[*********************100%***********************]  1 of 1 completed\n",
      "[*********************100%***********************]  1 of 1 completed\n",
      "[*********************100%***********************]  1 of 1 completed\n"
     ]
    }
   ],
   "source": [
    "n=int(input(\"Enter the number of stocks :\"))\n",
    "\n",
    "lst=[] #For storing the assets\n",
    "\n",
    "for i in range(n):\n",
    "    tick=input(\"Enter the stock name listed in NSE : \")\n",
    "    t=tick+'.NS'\n",
    "    lst.append(t)\n",
    "    \n",
    "lst.append('^NSEI')\n",
    "\n",
    "print(lst)\n",
    "\n",
    "# Set the start and end date\n",
    "start_date = '2008-01-01' #NSE Data for Nifty 50 index is available from September 2007\n",
    "end_date = '2021-08-03'\n",
    "df=[]\n",
    "for i in range(len(lst)):\n",
    "    ticker=lst[i]\n",
    "    data=yf.download(ticker, start_date, end_date)\n",
    "    df.append(data)"
   ]
  },
  {
   "cell_type": "code",
   "execution_count": 3,
   "metadata": {},
   "outputs": [
    {
     "data": {
      "text/html": [
       "<div>\n",
       "<style scoped>\n",
       "    .dataframe tbody tr th:only-of-type {\n",
       "        vertical-align: middle;\n",
       "    }\n",
       "\n",
       "    .dataframe tbody tr th {\n",
       "        vertical-align: top;\n",
       "    }\n",
       "\n",
       "    .dataframe thead th {\n",
       "        text-align: right;\n",
       "    }\n",
       "</style>\n",
       "<table border=\"1\" class=\"dataframe\">\n",
       "  <thead>\n",
       "    <tr style=\"text-align: right;\">\n",
       "      <th></th>\n",
       "      <th>Open</th>\n",
       "      <th>High</th>\n",
       "      <th>Low</th>\n",
       "      <th>Close</th>\n",
       "      <th>Adj Close</th>\n",
       "      <th>Volume</th>\n",
       "      <th>Open</th>\n",
       "      <th>High</th>\n",
       "      <th>Low</th>\n",
       "      <th>Close</th>\n",
       "      <th>...</th>\n",
       "      <th>Low</th>\n",
       "      <th>Close</th>\n",
       "      <th>Adj Close</th>\n",
       "      <th>Volume</th>\n",
       "      <th>Open</th>\n",
       "      <th>High</th>\n",
       "      <th>Low</th>\n",
       "      <th>Close</th>\n",
       "      <th>Adj Close</th>\n",
       "      <th>Volume</th>\n",
       "    </tr>\n",
       "    <tr>\n",
       "      <th>Date</th>\n",
       "      <th></th>\n",
       "      <th></th>\n",
       "      <th></th>\n",
       "      <th></th>\n",
       "      <th></th>\n",
       "      <th></th>\n",
       "      <th></th>\n",
       "      <th></th>\n",
       "      <th></th>\n",
       "      <th></th>\n",
       "      <th></th>\n",
       "      <th></th>\n",
       "      <th></th>\n",
       "      <th></th>\n",
       "      <th></th>\n",
       "      <th></th>\n",
       "      <th></th>\n",
       "      <th></th>\n",
       "      <th></th>\n",
       "      <th></th>\n",
       "      <th></th>\n",
       "    </tr>\n",
       "  </thead>\n",
       "  <tbody>\n",
       "    <tr>\n",
       "      <th>2008-01-01</th>\n",
       "      <td>224.557953</td>\n",
       "      <td>225.973236</td>\n",
       "      <td>222.312378</td>\n",
       "      <td>224.888199</td>\n",
       "      <td>192.848480</td>\n",
       "      <td>4502158</td>\n",
       "      <td>715.715759</td>\n",
       "      <td>717.944580</td>\n",
       "      <td>702.119629</td>\n",
       "      <td>705.376221</td>\n",
       "      <td>...</td>\n",
       "      <td>217.781250</td>\n",
       "      <td>218.356247</td>\n",
       "      <td>162.871201</td>\n",
       "      <td>2001624</td>\n",
       "      <td>6136.750000</td>\n",
       "      <td>6165.350098</td>\n",
       "      <td>6109.850098</td>\n",
       "      <td>6144.350098</td>\n",
       "      <td>6144.350098</td>\n",
       "      <td>0.0</td>\n",
       "    </tr>\n",
       "    <tr>\n",
       "      <th>2008-01-02</th>\n",
       "      <td>223.803146</td>\n",
       "      <td>231.540009</td>\n",
       "      <td>220.972580</td>\n",
       "      <td>228.648117</td>\n",
       "      <td>196.072723</td>\n",
       "      <td>10764075</td>\n",
       "      <td>707.047913</td>\n",
       "      <td>714.229797</td>\n",
       "      <td>696.225464</td>\n",
       "      <td>708.719543</td>\n",
       "      <td>...</td>\n",
       "      <td>214.050003</td>\n",
       "      <td>218.537506</td>\n",
       "      <td>163.006439</td>\n",
       "      <td>6155056</td>\n",
       "      <td>6144.700195</td>\n",
       "      <td>6197.000000</td>\n",
       "      <td>6060.850098</td>\n",
       "      <td>6179.399902</td>\n",
       "      <td>6179.399902</td>\n",
       "      <td>0.0</td>\n",
       "    </tr>\n",
       "    <tr>\n",
       "      <th>2008-01-03</th>\n",
       "      <td>228.332047</td>\n",
       "      <td>229.964340</td>\n",
       "      <td>224.902344</td>\n",
       "      <td>225.996826</td>\n",
       "      <td>193.799179</td>\n",
       "      <td>5993773</td>\n",
       "      <td>706.304932</td>\n",
       "      <td>725.621826</td>\n",
       "      <td>700.918518</td>\n",
       "      <td>719.108582</td>\n",
       "      <td>...</td>\n",
       "      <td>211.250000</td>\n",
       "      <td>213.631256</td>\n",
       "      <td>159.346924</td>\n",
       "      <td>12425960</td>\n",
       "      <td>6184.250000</td>\n",
       "      <td>6230.149902</td>\n",
       "      <td>6126.399902</td>\n",
       "      <td>6178.549805</td>\n",
       "      <td>6178.549805</td>\n",
       "      <td>0.0</td>\n",
       "    </tr>\n",
       "    <tr>\n",
       "      <th>2008-01-04</th>\n",
       "      <td>242.862259</td>\n",
       "      <td>242.862259</td>\n",
       "      <td>224.274902</td>\n",
       "      <td>225.388260</td>\n",
       "      <td>193.277298</td>\n",
       "      <td>5185640</td>\n",
       "      <td>719.182861</td>\n",
       "      <td>747.861023</td>\n",
       "      <td>719.182861</td>\n",
       "      <td>741.223938</td>\n",
       "      <td>...</td>\n",
       "      <td>210.000000</td>\n",
       "      <td>211.862503</td>\n",
       "      <td>158.027588</td>\n",
       "      <td>6166320</td>\n",
       "      <td>6179.100098</td>\n",
       "      <td>6300.049805</td>\n",
       "      <td>6179.100098</td>\n",
       "      <td>6274.299805</td>\n",
       "      <td>6274.299805</td>\n",
       "      <td>0.0</td>\n",
       "    </tr>\n",
       "    <tr>\n",
       "      <th>2008-01-07</th>\n",
       "      <td>226.322342</td>\n",
       "      <td>229.086853</td>\n",
       "      <td>222.765274</td>\n",
       "      <td>226.718628</td>\n",
       "      <td>194.418152</td>\n",
       "      <td>6612148</td>\n",
       "      <td>736.716675</td>\n",
       "      <td>750.387085</td>\n",
       "      <td>733.051392</td>\n",
       "      <td>747.972473</td>\n",
       "      <td>...</td>\n",
       "      <td>202.875000</td>\n",
       "      <td>204.606247</td>\n",
       "      <td>152.615143</td>\n",
       "      <td>13254200</td>\n",
       "      <td>6271.000000</td>\n",
       "      <td>6289.799805</td>\n",
       "      <td>6193.350098</td>\n",
       "      <td>6279.100098</td>\n",
       "      <td>6279.100098</td>\n",
       "      <td>0.0</td>\n",
       "    </tr>\n",
       "  </tbody>\n",
       "</table>\n",
       "<p>5 rows × 24 columns</p>\n",
       "</div>"
      ],
      "text/plain": [
       "                  Open        High         Low       Close   Adj Close  \\\n",
       "Date                                                                     \n",
       "2008-01-01  224.557953  225.973236  222.312378  224.888199  192.848480   \n",
       "2008-01-02  223.803146  231.540009  220.972580  228.648117  196.072723   \n",
       "2008-01-03  228.332047  229.964340  224.902344  225.996826  193.799179   \n",
       "2008-01-04  242.862259  242.862259  224.274902  225.388260  193.277298   \n",
       "2008-01-07  226.322342  229.086853  222.765274  226.718628  194.418152   \n",
       "\n",
       "              Volume        Open        High         Low       Close  ...  \\\n",
       "Date                                                                  ...   \n",
       "2008-01-01   4502158  715.715759  717.944580  702.119629  705.376221  ...   \n",
       "2008-01-02  10764075  707.047913  714.229797  696.225464  708.719543  ...   \n",
       "2008-01-03   5993773  706.304932  725.621826  700.918518  719.108582  ...   \n",
       "2008-01-04   5185640  719.182861  747.861023  719.182861  741.223938  ...   \n",
       "2008-01-07   6612148  736.716675  750.387085  733.051392  747.972473  ...   \n",
       "\n",
       "                   Low       Close   Adj Close    Volume         Open  \\\n",
       "Date                                                                    \n",
       "2008-01-01  217.781250  218.356247  162.871201   2001624  6136.750000   \n",
       "2008-01-02  214.050003  218.537506  163.006439   6155056  6144.700195   \n",
       "2008-01-03  211.250000  213.631256  159.346924  12425960  6184.250000   \n",
       "2008-01-04  210.000000  211.862503  158.027588   6166320  6179.100098   \n",
       "2008-01-07  202.875000  204.606247  152.615143  13254200  6271.000000   \n",
       "\n",
       "                   High          Low        Close    Adj Close  Volume  \n",
       "Date                                                                    \n",
       "2008-01-01  6165.350098  6109.850098  6144.350098  6144.350098     0.0  \n",
       "2008-01-02  6197.000000  6060.850098  6179.399902  6179.399902     0.0  \n",
       "2008-01-03  6230.149902  6126.399902  6178.549805  6178.549805     0.0  \n",
       "2008-01-04  6300.049805  6179.100098  6274.299805  6274.299805     0.0  \n",
       "2008-01-07  6289.799805  6193.350098  6279.100098  6279.100098     0.0  \n",
       "\n",
       "[5 rows x 24 columns]"
      ]
     },
     "execution_count": 3,
     "metadata": {},
     "output_type": "execute_result"
    }
   ],
   "source": [
    "stock_data = pd.concat(df, axis=1, ignore_index=False)\n",
    "stock_data.head()"
   ]
  },
  {
   "cell_type": "code",
   "execution_count": 5,
   "metadata": {
    "tags": []
   },
   "outputs": [
    {
     "data": {
      "text/html": [
       "<div>\n",
       "<style scoped>\n",
       "    .dataframe tbody tr th:only-of-type {\n",
       "        vertical-align: middle;\n",
       "    }\n",
       "\n",
       "    .dataframe tbody tr th {\n",
       "        vertical-align: top;\n",
       "    }\n",
       "\n",
       "    .dataframe thead th {\n",
       "        text-align: right;\n",
       "    }\n",
       "</style>\n",
       "<table border=\"1\" class=\"dataframe\">\n",
       "  <thead>\n",
       "    <tr style=\"text-align: right;\">\n",
       "      <th></th>\n",
       "      <th>SBIN.NS</th>\n",
       "      <th>RELIANCE.NS</th>\n",
       "      <th>INFY.NS</th>\n",
       "      <th>^NSEI</th>\n",
       "    </tr>\n",
       "    <tr>\n",
       "      <th>Date</th>\n",
       "      <th></th>\n",
       "      <th></th>\n",
       "      <th></th>\n",
       "      <th></th>\n",
       "    </tr>\n",
       "  </thead>\n",
       "  <tbody>\n",
       "    <tr>\n",
       "      <th>2021-07-27</th>\n",
       "      <td>429.950012</td>\n",
       "      <td>2055.000000</td>\n",
       "      <td>1588.472412</td>\n",
       "      <td>15746.450195</td>\n",
       "    </tr>\n",
       "    <tr>\n",
       "      <th>2021-07-28</th>\n",
       "      <td>425.500000</td>\n",
       "      <td>2037.349976</td>\n",
       "      <td>1591.495483</td>\n",
       "      <td>15709.400391</td>\n",
       "    </tr>\n",
       "    <tr>\n",
       "      <th>2021-07-29</th>\n",
       "      <td>441.549988</td>\n",
       "      <td>2053.250000</td>\n",
       "      <td>1602.795410</td>\n",
       "      <td>15778.450195</td>\n",
       "    </tr>\n",
       "    <tr>\n",
       "      <th>2021-07-30</th>\n",
       "      <td>431.799988</td>\n",
       "      <td>2035.300049</td>\n",
       "      <td>1596.352539</td>\n",
       "      <td>15763.049805</td>\n",
       "    </tr>\n",
       "    <tr>\n",
       "      <th>2021-08-02</th>\n",
       "      <td>434.899994</td>\n",
       "      <td>2072.500000</td>\n",
       "      <td>1617.217651</td>\n",
       "      <td>15885.150391</td>\n",
       "    </tr>\n",
       "  </tbody>\n",
       "</table>\n",
       "</div>"
      ],
      "text/plain": [
       "               SBIN.NS  RELIANCE.NS      INFY.NS         ^NSEI\n",
       "Date                                                          \n",
       "2021-07-27  429.950012  2055.000000  1588.472412  15746.450195\n",
       "2021-07-28  425.500000  2037.349976  1591.495483  15709.400391\n",
       "2021-07-29  441.549988  2053.250000  1602.795410  15778.450195\n",
       "2021-07-30  431.799988  2035.300049  1596.352539  15763.049805\n",
       "2021-08-02  434.899994  2072.500000  1617.217651  15885.150391"
      ]
     },
     "execution_count": 5,
     "metadata": {},
     "output_type": "execute_result"
    }
   ],
   "source": [
    "pf_data=stock_data['Adj Close']\n",
    "pf_data.head()\n",
    "\n",
    "pf_data.columns=lst\n",
    "pf_data.tail()\n"
   ]
  },
  {
   "cell_type": "code",
   "execution_count": 6,
   "metadata": {},
   "outputs": [
    {
     "data": {
      "text/plain": [
       "<AxesSubplot:xlabel='Date'>"
      ]
     },
     "execution_count": 6,
     "metadata": {},
     "output_type": "execute_result"
    },
    {
     "data": {
      "image/png": "[encoded data removed]",
      "text/plain": [
       "<Figure size 720x360 with 1 Axes>"
      ]
     },
     "metadata": {
      "needs_background": "light"
     },
     "output_type": "display_data"
    }
   ],
   "source": [
    "(pf_data / pf_data.iloc[0] * 100).plot(figsize=(10, 5))\n"
   ]
  },
  {
   "cell_type": "code",
   "execution_count": 7,
   "metadata": {},
   "outputs": [],
   "source": [
    "log_returns = np.log(pf_data / pf_data.shift(1))"
   ]
  },
  {
   "cell_type": "code",
   "execution_count": 8,
   "metadata": {},
   "outputs": [
    {
     "data": {
      "text/plain": [
       "SBIN.NS        0.060778\n",
       "RELIANCE.NS    0.088487\n",
       "INFY.NS        0.171562\n",
       "^NSEI          0.063921\n",
       "dtype: float64"
      ]
     },
     "execution_count": 8,
     "metadata": {},
     "output_type": "execute_result"
    }
   ],
   "source": [
    "log_returns.mean() * 250"
   ]
  },
  {
   "cell_type": "code",
   "execution_count": 11,
   "metadata": {},
   "outputs": [
    {
     "data": {
      "text/html": [
       "<div>\n",
       "<style scoped>\n",
       "    .dataframe tbody tr th:only-of-type {\n",
       "        vertical-align: middle;\n",
       "    }\n",
       "\n",
       "    .dataframe tbody tr th {\n",
       "        vertical-align: top;\n",
       "    }\n",
       "\n",
       "    .dataframe thead th {\n",
       "        text-align: right;\n",
       "    }\n",
       "</style>\n",
       "<table border=\"1\" class=\"dataframe\">\n",
       "  <thead>\n",
       "    <tr style=\"text-align: right;\">\n",
       "      <th></th>\n",
       "      <th>SBIN.NS</th>\n",
       "      <th>RELIANCE.NS</th>\n",
       "      <th>INFY.NS</th>\n",
       "      <th>^NSEI</th>\n",
       "    </tr>\n",
       "  </thead>\n",
       "  <tbody>\n",
       "    <tr>\n",
       "      <th>SBIN.NS</th>\n",
       "      <td>0.143775</td>\n",
       "      <td>0.059486</td>\n",
       "      <td>0.027884</td>\n",
       "      <td>0.059236</td>\n",
       "    </tr>\n",
       "    <tr>\n",
       "      <th>RELIANCE.NS</th>\n",
       "      <td>0.059486</td>\n",
       "      <td>0.113340</td>\n",
       "      <td>0.034000</td>\n",
       "      <td>0.056483</td>\n",
       "    </tr>\n",
       "    <tr>\n",
       "      <th>INFY.NS</th>\n",
       "      <td>0.027884</td>\n",
       "      <td>0.034000</td>\n",
       "      <td>0.094690</td>\n",
       "      <td>0.035225</td>\n",
       "    </tr>\n",
       "    <tr>\n",
       "      <th>^NSEI</th>\n",
       "      <td>0.059236</td>\n",
       "      <td>0.056483</td>\n",
       "      <td>0.035225</td>\n",
       "      <td>0.049338</td>\n",
       "    </tr>\n",
       "  </tbody>\n",
       "</table>\n",
       "</div>"
      ],
      "text/plain": [
       "              SBIN.NS  RELIANCE.NS   INFY.NS     ^NSEI\n",
       "SBIN.NS      0.143775     0.059486  0.027884  0.059236\n",
       "RELIANCE.NS  0.059486     0.113340  0.034000  0.056483\n",
       "INFY.NS      0.027884     0.034000  0.094690  0.035225\n",
       "^NSEI        0.059236     0.056483  0.035225  0.049338"
      ]
     },
     "execution_count": 11,
     "metadata": {},
     "output_type": "execute_result"
    }
   ],
   "source": [
    "#Calculation of covariance\n",
    "\n",
    "log_returns.cov() * 250"
   ]
  },
  {
   "cell_type": "code",
   "execution_count": 12,
   "metadata": {},
   "outputs": [
    {
     "data": {
      "text/html": [
       "<div>\n",
       "<style scoped>\n",
       "    .dataframe tbody tr th:only-of-type {\n",
       "        vertical-align: middle;\n",
       "    }\n",
       "\n",
       "    .dataframe tbody tr th {\n",
       "        vertical-align: top;\n",
       "    }\n",
       "\n",
       "    .dataframe thead th {\n",
       "        text-align: right;\n",
       "    }\n",
       "</style>\n",
       "<table border=\"1\" class=\"dataframe\">\n",
       "  <thead>\n",
       "    <tr style=\"text-align: right;\">\n",
       "      <th></th>\n",
       "      <th>SBIN.NS</th>\n",
       "      <th>RELIANCE.NS</th>\n",
       "      <th>INFY.NS</th>\n",
       "      <th>^NSEI</th>\n",
       "    </tr>\n",
       "  </thead>\n",
       "  <tbody>\n",
       "    <tr>\n",
       "      <th>SBIN.NS</th>\n",
       "      <td>1.000000</td>\n",
       "      <td>0.465999</td>\n",
       "      <td>0.238984</td>\n",
       "      <td>0.702689</td>\n",
       "    </tr>\n",
       "    <tr>\n",
       "      <th>RELIANCE.NS</th>\n",
       "      <td>0.465999</td>\n",
       "      <td>1.000000</td>\n",
       "      <td>0.328195</td>\n",
       "      <td>0.751961</td>\n",
       "    </tr>\n",
       "    <tr>\n",
       "      <th>INFY.NS</th>\n",
       "      <td>0.238984</td>\n",
       "      <td>0.328195</td>\n",
       "      <td>1.000000</td>\n",
       "      <td>0.514409</td>\n",
       "    </tr>\n",
       "    <tr>\n",
       "      <th>^NSEI</th>\n",
       "      <td>0.702689</td>\n",
       "      <td>0.751961</td>\n",
       "      <td>0.514409</td>\n",
       "      <td>1.000000</td>\n",
       "    </tr>\n",
       "  </tbody>\n",
       "</table>\n",
       "</div>"
      ],
      "text/plain": [
       "              SBIN.NS  RELIANCE.NS   INFY.NS     ^NSEI\n",
       "SBIN.NS      1.000000     0.465999  0.238984  0.702689\n",
       "RELIANCE.NS  0.465999     1.000000  0.328195  0.751961\n",
       "INFY.NS      0.238984     0.328195  1.000000  0.514409\n",
       "^NSEI        0.702689     0.751961  0.514409  1.000000"
      ]
     },
     "execution_count": 12,
     "metadata": {},
     "output_type": "execute_result"
    }
   ],
   "source": [
    "#Calculation of correlation \n",
    "\n",
    "log_returns.corr()"
   ]
  },
  {
   "cell_type": "code",
   "execution_count": 13,
   "metadata": {},
   "outputs": [
    {
     "data": {
      "text/plain": [
       "4"
      ]
     },
     "execution_count": 13,
     "metadata": {},
     "output_type": "execute_result"
    }
   ],
   "source": [
    "num_assets = len(lst)\n",
    "num_assets"
   ]
  },
  {
   "cell_type": "code",
   "execution_count": 18,
   "metadata": {},
   "outputs": [
    {
     "data": {
      "text/plain": [
       "array([0.28639758, 0.81590521])"
      ]
     },
     "execution_count": 18,
     "metadata": {},
     "output_type": "execute_result"
    }
   ],
   "source": [
    "arr = np.random.random(2)\n",
    "arr"
   ]
  },
  {
   "cell_type": "code",
   "execution_count": 19,
   "metadata": {},
   "outputs": [
    {
     "data": {
      "text/plain": [
       "1.102302798533411"
      ]
     },
     "execution_count": 19,
     "metadata": {},
     "output_type": "execute_result"
    }
   ],
   "source": [
    "arr[0] + arr[1]"
   ]
  },
  {
   "cell_type": "code",
   "execution_count": 20,
   "metadata": {},
   "outputs": [
    {
     "data": {
      "text/plain": [
       "array([0.03621383, 0.50750262, 0.08645035, 0.3698332 ])"
      ]
     },
     "execution_count": 20,
     "metadata": {},
     "output_type": "execute_result"
    }
   ],
   "source": [
    "#Assigning random weights to each stocks\n",
    "\n",
    "weights = np.random.random(num_assets)\n",
    "weights /= np.sum(weights)\n",
    "weights"
   ]
  },
  {
   "cell_type": "code",
   "execution_count": 21,
   "metadata": {},
   "outputs": [
    {
     "data": {
      "text/plain": [
       "1.0"
      ]
     },
     "execution_count": 21,
     "metadata": {},
     "output_type": "execute_result"
    }
   ],
   "source": [
    "sum(weights)"
   ]
  },
  {
   "cell_type": "code",
   "execution_count": 22,
   "metadata": {},
   "outputs": [
    {
     "data": {
      "text/plain": [
       "0.085580199531626"
      ]
     },
     "execution_count": 22,
     "metadata": {},
     "output_type": "execute_result"
    }
   ],
   "source": [
    "#Expected Portfolio Returns\n",
    "\n",
    "np.sum(weights*log_returns.mean())*250"
   ]
  },
  {
   "cell_type": "code",
   "execution_count": 23,
   "metadata": {},
   "outputs": [
    {
     "data": {
      "text/plain": [
       "0.2592732687934468"
      ]
     },
     "execution_count": 23,
     "metadata": {},
     "output_type": "execute_result"
    }
   ],
   "source": [
    "#Expected Portfolio Volatility\n",
    "\n",
    "np.sqrt(np.dot(weights.T,np.dot(log_returns.cov() * 250, weights)))"
   ]
  },
  {
   "cell_type": "code",
   "execution_count": 25,
   "metadata": {},
   "outputs": [],
   "source": [
    "#Calculating portfolio returns and portfolio volatilities\n",
    "\n",
    "pfolio_returns = []\n",
    "pfolio_volatilities = []\n",
    "\n",
    "for x in range (1000):\n",
    "    weights = np.random.random(num_assets)\n",
    "    weights /= np.sum(weights)\n",
    "    pfolio_returns.append(np.sum(weights * log_returns.mean()) * 250)\n",
    "    pfolio_volatilities.append(np.sqrt(np.dot(weights.T,np.dot(log_returns.cov() * 250, weights))))\n",
    "    \n",
    "pfolio_returns = np.array(pfolio_returns)\n",
    "pfolio_volatilities = np.array(pfolio_volatilities)\n",
    "\n",
    "#pfolio_returns, pfolio_volatilities"
   ]
  },
  {
   "cell_type": "code",
   "execution_count": 26,
   "metadata": {},
   "outputs": [],
   "source": [
    "#Converting to DataFrame\n",
    "\n",
    "portfolios = pd.DataFrame({'Return': pfolio_returns, 'Volatility': pfolio_volatilities})"
   ]
  },
  {
   "cell_type": "code",
   "execution_count": 27,
   "metadata": {},
   "outputs": [
    {
     "data": {
      "text/html": [
       "<div>\n",
       "<style scoped>\n",
       "    .dataframe tbody tr th:only-of-type {\n",
       "        vertical-align: middle;\n",
       "    }\n",
       "\n",
       "    .dataframe tbody tr th {\n",
       "        vertical-align: top;\n",
       "    }\n",
       "\n",
       "    .dataframe thead th {\n",
       "        text-align: right;\n",
       "    }\n",
       "</style>\n",
       "<table border=\"1\" class=\"dataframe\">\n",
       "  <thead>\n",
       "    <tr style=\"text-align: right;\">\n",
       "      <th></th>\n",
       "      <th>Return</th>\n",
       "      <th>Volatility</th>\n",
       "    </tr>\n",
       "  </thead>\n",
       "  <tbody>\n",
       "    <tr>\n",
       "      <th>0</th>\n",
       "      <td>0.114684</td>\n",
       "      <td>0.235123</td>\n",
       "    </tr>\n",
       "    <tr>\n",
       "      <th>1</th>\n",
       "      <td>0.107147</td>\n",
       "      <td>0.236862</td>\n",
       "    </tr>\n",
       "    <tr>\n",
       "      <th>2</th>\n",
       "      <td>0.099935</td>\n",
       "      <td>0.234477</td>\n",
       "    </tr>\n",
       "    <tr>\n",
       "      <th>3</th>\n",
       "      <td>0.077924</td>\n",
       "      <td>0.278008</td>\n",
       "    </tr>\n",
       "    <tr>\n",
       "      <th>4</th>\n",
       "      <td>0.085582</td>\n",
       "      <td>0.252379</td>\n",
       "    </tr>\n",
       "  </tbody>\n",
       "</table>\n",
       "</div>"
      ],
      "text/plain": [
       "     Return  Volatility\n",
       "0  0.114684    0.235123\n",
       "1  0.107147    0.236862\n",
       "2  0.099935    0.234477\n",
       "3  0.077924    0.278008\n",
       "4  0.085582    0.252379"
      ]
     },
     "execution_count": 27,
     "metadata": {},
     "output_type": "execute_result"
    }
   ],
   "source": [
    "portfolios.head()"
   ]
  },
  {
   "cell_type": "code",
   "execution_count": 28,
   "metadata": {},
   "outputs": [
    {
     "data": {
      "text/plain": [
       "Text(0, 0.5, 'Expected Return')"
      ]
     },
     "execution_count": 28,
     "metadata": {},
     "output_type": "execute_result"
    },
    {
     "data": {
      "image/png": "[encoded data removed]",
      "text/plain": [
       "<Figure size 720x432 with 1 Axes>"
      ]
     },
     "metadata": {
      "needs_background": "light"
     },
     "output_type": "display_data"
    }
   ],
   "source": [
    "portfolios.plot(x='Volatility', y='Return', kind='scatter', figsize=(10, 6));\n",
    "plt.xlabel('Expected Volatility')\n",
    "plt.ylabel('Expected Return')"
   ]
  },
  {
   "cell_type": "code",
   "execution_count": null,
   "metadata": {},
   "outputs": [],
   "source": []
  }
 ],
 "metadata": {
  "kernelspec": {
   "display_name": "Python 3 (ipykernel)",
   "language": "python",
   "name": "python3"
  },
  "language_info": {
   "codemirror_mode": {
    "name": "ipython",
    "version": 3
   },
   "file_extension": ".py",
   "mimetype": "text/x-python",
   "name": "python",
   "nbconvert_exporter": "python",
   "pygments_lexer": "ipython3",
   "version": "3.7.3"
  }
 },
 "nbformat": 4,
 "nbformat_minor": 4
}
